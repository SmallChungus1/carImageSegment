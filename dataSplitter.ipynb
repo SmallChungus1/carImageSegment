{
 "cells": [
  {
   "cell_type": "code",
   "execution_count": 1,
   "id": "6f66943d-4662-474d-aef6-f51b781095a4",
   "metadata": {},
   "outputs": [],
   "source": [
    "import os\n",
    "import shutil\n",
    "import random"
   ]
  },
  {
   "cell_type": "code",
   "execution_count": 2,
   "id": "0c7d36c2-96f7-4643-bf2c-7354be87e9f3",
   "metadata": {},
   "outputs": [
    {
     "name": "stdout",
     "output_type": "stream",
     "text": [
      "C:\\Users\\hanso\\Desktop\\projects_desktop\\carImageSegment\n"
     ]
    }
   ],
   "source": [
    "print(os.getcwd())"
   ]
  },
  {
   "cell_type": "code",
   "execution_count": 3,
   "id": "419c6347-fe53-4bb0-a92c-19e42b48eba2",
   "metadata": {},
   "outputs": [],
   "source": [
    "trainImgPath = 'carvanaTrain/'\n",
    "trainMaskPath = 'carvanaTrainMask/'"
   ]
  },
  {
   "cell_type": "code",
   "execution_count": 4,
   "id": "f6033dda-0126-42ea-b8e1-c23e5c5b79a5",
   "metadata": {},
   "outputs": [],
   "source": [
    "testImgPath = 'carvanaTest/'\n",
    "testMaskPath = 'carvanaTestMask/'"
   ]
  },
  {
   "cell_type": "code",
   "execution_count": 5,
   "id": "7fb72215-700c-44a4-9bdb-dce041076f18",
   "metadata": {},
   "outputs": [],
   "source": [
    "os.makedirs(testImgPath, exist_ok=True)\n",
    "os.makedirs(testMaskPath, exist_ok=True)"
   ]
  },
  {
   "cell_type": "code",
   "execution_count": 6,
   "id": "edb2d4f3-c430-4351-ba71-09f318b6a134",
   "metadata": {},
   "outputs": [],
   "source": [
    "filenames = os.listdir(trainImgPath)"
   ]
  },
  {
   "cell_type": "code",
   "execution_count": 7,
   "id": "d5cf9453-56db-4dd0-8b16-273b25f4b178",
   "metadata": {},
   "outputs": [],
   "source": [
    "random.shuffle(filenames)"
   ]
  },
  {
   "cell_type": "code",
   "execution_count": 8,
   "id": "a93cc959-4dff-40d9-a096-d403ea1c18af",
   "metadata": {},
   "outputs": [],
   "source": [
    "num_files_to_move = int(0.2 * len(filenames))"
   ]
  },
  {
   "cell_type": "code",
   "execution_count": 9,
   "id": "3b730eba-8737-4694-b83d-5382c0a09efa",
   "metadata": {},
   "outputs": [],
   "source": [
    "# for filename in filenames[:num_files_to_move]:\n",
    "#     # move img\n",
    "#     shutil.move(os.path.join(trainImgPath, filename), os.path.join(testImgPath, filename))\n",
    "    \n",
    "#     # find mask name\n",
    "#     mask_filename = os.path.splitext(filename)[0] + '_mask.gif'\n",
    "    \n",
    "#     # move mask\n",
    "#     shutil.move(os.path.join(trainMaskPath, mask_filename), os.path.join(testMaskPath, mask_filename))\n",
    "\n",
    "# print(f\"{num_files_to_move} files moved from the train set to the test set.\")"
   ]
  },
  {
   "cell_type": "code",
   "execution_count": 10,
   "id": "d1472e2f-b744-48f8-a1f2-5736fb1ff434",
   "metadata": {},
   "outputs": [],
   "source": [
    "numTrainImg = 300\n",
    "numTestImg = 50"
   ]
  },
  {
   "cell_type": "code",
   "execution_count": 11,
   "id": "cd17f459-a942-46b2-8ebe-77d2c767760c",
   "metadata": {},
   "outputs": [],
   "source": [
    "train_filenameskept = filenames[:numTrainImg]\n",
    "test_filenames = os.listdir(testImgPath)\n",
    "test_filenameskept = test_filenames[:numTestImg]"
   ]
  },
  {
   "cell_type": "code",
   "execution_count": 12,
   "id": "b0c773f6-bd44-4fb5-8c56-6b3277724dda",
   "metadata": {},
   "outputs": [],
   "source": [
    "for filename in filenames: #shrinking dataset for training\n",
    "       if filename not in train_filenameskept:\n",
    "        # del image\n",
    "        os.remove(os.path.join(trainImgPath, filename))\n",
    "        \n",
    "        # find mask\n",
    "        mask_filename = os.path.splitext(filename)[0] + '_mask.gif'\n",
    "        \n",
    "        # del mask\n",
    "        os.remove(os.path.join(trainMaskPath, mask_filename)) "
   ]
  },
  {
   "cell_type": "code",
   "execution_count": 13,
   "id": "a4cca49c-c7e9-46cb-8c96-614056f65902",
   "metadata": {},
   "outputs": [],
   "source": [
    "for filename in test_filenames: #shrinking for testing dataset\n",
    "       if filename not in test_filenameskept:\n",
    "        # del image\n",
    "        os.remove(os.path.join(testImgPath, filename))\n",
    "        \n",
    "        # find mask\n",
    "        mask_filename = os.path.splitext(filename)[0] + '_mask.gif'\n",
    "        \n",
    "        # del mask\n",
    "        os.remove(os.path.join(testMaskPath, mask_filename)) "
   ]
  }
 ],
 "metadata": {
  "kernelspec": {
   "display_name": "Python 3 (ipykernel)",
   "language": "python",
   "name": "python3"
  },
  "language_info": {
   "codemirror_mode": {
    "name": "ipython",
    "version": 3
   },
   "file_extension": ".py",
   "mimetype": "text/x-python",
   "name": "python",
   "nbconvert_exporter": "python",
   "pygments_lexer": "ipython3",
   "version": "3.11.7"
  }
 },
 "nbformat": 4,
 "nbformat_minor": 5
}
